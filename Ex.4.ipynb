{
    "metadata": {
        "kernelspec": {
            "name": "SQL",
            "display_name": "SQL",
            "language": "sql"
        },
        "language_info": {
            "name": "sql",
            "version": ""
        }
    },
    "nbformat_minor": 2,
    "nbformat": 4,
    "cells": [
        {
            "cell_type": "markdown",
            "source": [
                "**UTILIZANDO A BASE DE DADOS TREINO  PARA TIRAR INSIGHT**"
            ],
            "metadata": {
                "azdata_cell_guid": "144cb75e-ebb2-49ed-9d21-cc92ab341d1b"
            },
            "attachments": {}
        },
        {
            "cell_type": "code",
            "source": [
                "USE TREINO"
            ],
            "metadata": {
                "azdata_cell_guid": "eb4fe0a0-acec-4cff-b97c-8bafad3314fc"
            },
            "outputs": [
                {
                    "output_type": "display_data",
                    "data": {
                        "text/html": "Commands completed successfully."
                    },
                    "metadata": {}
                },
                {
                    "output_type": "display_data",
                    "data": {
                        "text/html": "Total execution time: 00:00:00.006"
                    },
                    "metadata": {}
                }
            ],
            "execution_count": 1
        },
        {
            "cell_type": "code",
            "source": [
                "---Liste o código do produto, descrição do produto e a descrição das categorias dos produtos \r\n",
                "---que tenham o valor unitário na faixa de R$ 10,00 a R$ 1500\r\n",
                "\r\n",
                "SELECT\r\n",
                "DISTINCT(PRO.ID_PROD), PRO.NOME_PRODUTO, CAT.NOME_CATEGORIA\r\n",
                "FROM\r\n",
                "PRODUTOS PRO INNER JOIN VENDA_ITENS VD_I\r\n",
                "ON\r\n",
                "PRO.ID_PROD = VD_I.ID_PROD\r\n",
                "\r\n",
                "INNER JOIN CATEGORIA CAT    \r\n",
                "ON\r\n",
                "PRO.ID_CATEGORIA = CAT.ID_CATEGORIA\r\n",
                "WHERE\r\n",
                "VAL_UNIT > 9 \r\n",
                "AND \r\n",
                "VAL_UNIT < 1500\r\n",
                "ORDER BY PRO.ID_PROD\r\n",
                "\r\n",
                ""
            ],
            "metadata": {
                "azdata_cell_guid": "6d7dfc21-7105-4ff2-bb23-6151d7b810f0",
                "tags": []
            },
            "outputs": [
                {
                    "output_type": "display_data",
                    "data": {
                        "text/html": "(11 rows affected)"
                    },
                    "metadata": {}
                },
                {
                    "output_type": "display_data",
                    "data": {
                        "text/html": "Total execution time: 00:00:02.035"
                    },
                    "metadata": {}
                },
                {
                    "output_type": "execute_result",
                    "execution_count": 34,
                    "data": {
                        "application/vnd.dataresource+json": {
                            "schema": {
                                "fields": [
                                    {
                                        "name": "ID_PROD"
                                    },
                                    {
                                        "name": "NOME_PRODUTO"
                                    },
                                    {
                                        "name": "NOME_CATEGORIA"
                                    }
                                ]
                            },
                            "data": [
                                {
                                    "0": "1",
                                    "1": "HD 500 1 TB",
                                    "2": "Informática"
                                },
                                {
                                    "0": "2",
                                    "1": "Monitor 17",
                                    "2": "Informática"
                                },
                                {
                                    "0": "3",
                                    "1": "Monitor 15",
                                    "2": "Informática"
                                },
                                {
                                    "0": "4",
                                    "1": "HD SSD 250 GB",
                                    "2": "Informática"
                                },
                                {
                                    "0": "5",
                                    "1": "Teclado",
                                    "2": "Informática"
                                },
                                {
                                    "0": "9",
                                    "1": "TV Plasma 32",
                                    "2": "TV´s"
                                },
                                {
                                    "0": "10",
                                    "1": "Fogao",
                                    "2": "Utilidades do Lar"
                                },
                                {
                                    "0": "11",
                                    "1": "Mixer",
                                    "2": "Eletrodomesticos"
                                },
                                {
                                    "0": "12",
                                    "1": "Batedeira",
                                    "2": "Eletrodomesticos"
                                },
                                {
                                    "0": "13",
                                    "1": "Liquidificador",
                                    "2": "Eletrodomesticos"
                                },
                                {
                                    "0": "15",
                                    "1": "Aspirador de pó",
                                    "2": "Utilidades do Lar"
                                }
                            ]
                        },
                        "text/html": "<table><tr><th>ID_PROD</th><th>NOME_PRODUTO</th><th>NOME_CATEGORIA</th></tr><tr><td>1</td><td>HD 500 1 TB</td><td>Informática</td></tr><tr><td>2</td><td>Monitor 17</td><td>Informática</td></tr><tr><td>3</td><td>Monitor 15</td><td>Informática</td></tr><tr><td>4</td><td>HD SSD 250 GB</td><td>Informática</td></tr><tr><td>5</td><td>Teclado</td><td>Informática</td></tr><tr><td>9</td><td>TV Plasma 32</td><td>TV´s</td></tr><tr><td>10</td><td>Fogao</td><td>Utilidades do Lar</td></tr><tr><td>11</td><td>Mixer</td><td>Eletrodomesticos</td></tr><tr><td>12</td><td>Batedeira</td><td>Eletrodomesticos</td></tr><tr><td>13</td><td>Liquidificador</td><td>Eletrodomesticos</td></tr><tr><td>15</td><td>Aspirador de pó</td><td>Utilidades do Lar</td></tr></table>"
                    },
                    "metadata": {}
                }
            ],
            "execution_count": 34
        }
    ]
}
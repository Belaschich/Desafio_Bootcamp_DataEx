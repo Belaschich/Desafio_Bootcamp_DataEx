{
    "metadata": {
        "kernelspec": {
            "name": "SQL",
            "display_name": "SQL",
            "language": "sql"
        },
        "language_info": {
            "name": "sql",
            "version": ""
        }
    },
    "nbformat_minor": 2,
    "nbformat": 4,
    "cells": [
        {
            "cell_type": "markdown",
            "source": [
                "**UTILIZANDO A BASE DE DADOS TREINO  PARA TIRAR INSIGHT**"
            ],
            "metadata": {
                "azdata_cell_guid": "bd74a601-cbe4-4ed1-a47e-85d05c1f012e"
            },
            "attachments": {}
        },
        {
            "cell_type": "code",
            "source": [
                "USE TREINO"
            ],
            "metadata": {
                "azdata_cell_guid": "9610563b-72b3-451d-80fd-74b4d53c98c6"
            },
            "outputs": [
                {
                    "output_type": "display_data",
                    "data": {
                        "text/html": "Commands completed successfully."
                    },
                    "metadata": {}
                },
                {
                    "output_type": "display_data",
                    "data": {
                        "text/html": "Total execution time: 00:00:00.001"
                    },
                    "metadata": {}
                }
            ],
            "execution_count": 9
        },
        {
            "cell_type": "code",
            "source": [
                "---Liste o código do produto, descrição do produto e descrição da categoria dos produtos, e\r\n",
                "---também apresente uma coluna condicional com o nome de \"faixa de preço\" \r\n",
                "\r\n",
                "SELECT\r\n",
                "DISTINCT(PRO.ID_PROD), \r\n",
                "PRO.NOME_PRODUTO,\r\n",
                "CAT.NOME_CATEGORIA,\r\n",
                "CASE WHEN PRECO < 500 THEN 'Preço abaixo de 500'\r\n",
                "WHEN PRECO >=500 AND PRECO <=1000 THEN  'Preço entre 500 e 1000'\r\n",
                "ELSE 'Preço acima de 1000'\r\n",
                "END AS FAIXA_DE_PRECO\r\n",
                "FROM\r\n",
                "PRODUTOS PRO INNER JOIN VENDA_ITENS VD_I\r\n",
                "ON\r\n",
                "PRO.ID_PROD = VD_I.ID_PROD\r\n",
                "\r\n",
                "INNER JOIN CATEGORIA CAT    \r\n",
                "ON\r\n",
                "PRO.ID_CATEGORIA = CAT.ID_CATEGORIA\r\n",
                "\r\n",
                "ORDER BY PRO.ID_PROD"
            ],
            "metadata": {
                "azdata_cell_guid": "c40b295f-b903-4b0b-bf60-b5372f51e2a3",
                "tags": []
            },
            "outputs": [
                {
                    "output_type": "display_data",
                    "data": {
                        "text/html": "(15 rows affected)"
                    },
                    "metadata": {}
                },
                {
                    "output_type": "display_data",
                    "data": {
                        "text/html": "Total execution time: 00:00:00.177"
                    },
                    "metadata": {}
                },
                {
                    "output_type": "execute_result",
                    "execution_count": 19,
                    "data": {
                        "application/vnd.dataresource+json": {
                            "schema": {
                                "fields": [
                                    {
                                        "name": "ID_PROD"
                                    },
                                    {
                                        "name": "NOME_PRODUTO"
                                    },
                                    {
                                        "name": "NOME_CATEGORIA"
                                    },
                                    {
                                        "name": "FAIXA_DE_PRECO"
                                    }
                                ]
                            },
                            "data": [
                                {
                                    "0": "1",
                                    "1": "HD 500 1 TB",
                                    "2": "Informática",
                                    "3": "Preço abaixo de 500"
                                },
                                {
                                    "0": "2",
                                    "1": "Monitor 17",
                                    "2": "Informática",
                                    "3": "Preço entre 500 e 1000"
                                },
                                {
                                    "0": "3",
                                    "1": "Monitor 15",
                                    "2": "Informática",
                                    "3": "Preço entre 500 e 1000"
                                },
                                {
                                    "0": "4",
                                    "1": "HD SSD 250 GB",
                                    "2": "Informática",
                                    "3": "Preço entre 500 e 1000"
                                },
                                {
                                    "0": "5",
                                    "1": "Teclado",
                                    "2": "Informática",
                                    "3": "Preço abaixo de 500"
                                },
                                {
                                    "0": "6",
                                    "1": "TV LED 40",
                                    "2": "TV´s",
                                    "3": "Preço acima de 1000"
                                },
                                {
                                    "0": "7",
                                    "1": "TV LCD 40",
                                    "2": "TV´s",
                                    "3": "Preço acima de 1000"
                                },
                                {
                                    "0": "8",
                                    "1": "SMART TV 4K 50",
                                    "2": "TV´s",
                                    "3": "Preço acima de 1000"
                                },
                                {
                                    "0": "9",
                                    "1": "TV Plasma 32",
                                    "2": "TV´s",
                                    "3": "Preço acima de 1000"
                                },
                                {
                                    "0": "10",
                                    "1": "Fogao",
                                    "2": "Utilidades do Lar",
                                    "3": "Preço entre 500 e 1000"
                                },
                                {
                                    "0": "11",
                                    "1": "Mixer",
                                    "2": "Eletrodomesticos",
                                    "3": "Preço abaixo de 500"
                                },
                                {
                                    "0": "12",
                                    "1": "Batedeira",
                                    "2": "Eletrodomesticos",
                                    "3": "Preço abaixo de 500"
                                },
                                {
                                    "0": "13",
                                    "1": "Liquidificador",
                                    "2": "Eletrodomesticos",
                                    "3": "Preço abaixo de 500"
                                },
                                {
                                    "0": "14",
                                    "1": "Geladeira",
                                    "2": "Eletrodomesticos",
                                    "3": "Preço acima de 1000"
                                },
                                {
                                    "0": "15",
                                    "1": "Aspirador de pó",
                                    "2": "Utilidades do Lar",
                                    "3": "Preço abaixo de 500"
                                }
                            ]
                        },
                        "text/html": "<table><tr><th>ID_PROD</th><th>NOME_PRODUTO</th><th>NOME_CATEGORIA</th><th>FAIXA_DE_PRECO</th></tr><tr><td>1</td><td>HD 500 1 TB</td><td>Informática</td><td>Preço abaixo de 500</td></tr><tr><td>2</td><td>Monitor 17</td><td>Informática</td><td>Preço entre 500 e 1000</td></tr><tr><td>3</td><td>Monitor 15</td><td>Informática</td><td>Preço entre 500 e 1000</td></tr><tr><td>4</td><td>HD SSD 250 GB</td><td>Informática</td><td>Preço entre 500 e 1000</td></tr><tr><td>5</td><td>Teclado</td><td>Informática</td><td>Preço abaixo de 500</td></tr><tr><td>6</td><td>TV LED 40</td><td>TV´s</td><td>Preço acima de 1000</td></tr><tr><td>7</td><td>TV LCD 40</td><td>TV´s</td><td>Preço acima de 1000</td></tr><tr><td>8</td><td>SMART TV 4K 50</td><td>TV´s</td><td>Preço acima de 1000</td></tr><tr><td>9</td><td>TV Plasma 32</td><td>TV´s</td><td>Preço acima de 1000</td></tr><tr><td>10</td><td>Fogao</td><td>Utilidades do Lar</td><td>Preço entre 500 e 1000</td></tr><tr><td>11</td><td>Mixer</td><td>Eletrodomesticos</td><td>Preço abaixo de 500</td></tr><tr><td>12</td><td>Batedeira</td><td>Eletrodomesticos</td><td>Preço abaixo de 500</td></tr><tr><td>13</td><td>Liquidificador</td><td>Eletrodomesticos</td><td>Preço abaixo de 500</td></tr><tr><td>14</td><td>Geladeira</td><td>Eletrodomesticos</td><td>Preço acima de 1000</td></tr><tr><td>15</td><td>Aspirador de pó</td><td>Utilidades do Lar</td><td>Preço abaixo de 500</td></tr></table>"
                    },
                    "metadata": {}
                }
            ],
            "execution_count": 19
        }
    ]
}
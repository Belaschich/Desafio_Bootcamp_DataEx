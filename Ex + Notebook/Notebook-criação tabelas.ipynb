{
    "metadata": {
        "kernelspec": {
            "name": "SQL",
            "display_name": "SQL",
            "language": "sql"
        },
        "language_info": {
            "name": "sql",
            "version": ""
        }
    },
    "nbformat_minor": 2,
    "nbformat": 4,
    "cells": [
        {
            "cell_type": "markdown",
            "source": [
                "**CRIANDO A BASE DE DADOS DESAFIO**"
            ],
            "metadata": {
                "azdata_cell_guid": "910c32f3-3028-494d-b64e-520b9b912440"
            },
            "attachments": {}
        },
        {
            "cell_type": "code",
            "source": [
                "CREATE DATABASE Desafio"
            ],
            "metadata": {
                "azdata_cell_guid": "89f395c1-264d-42d8-ab09-54db10d99175"
            },
            "outputs": [
                {
                    "output_type": "display_data",
                    "data": {
                        "text/html": "Commands completed successfully."
                    },
                    "metadata": {}
                },
                {
                    "output_type": "display_data",
                    "data": {
                        "text/html": "Total execution time: 00:00:10.753"
                    },
                    "metadata": {}
                }
            ],
            "execution_count": 58
        },
        {
            "cell_type": "markdown",
            "source": [
                "**CRIANDO AS TABELAS DIMENSÃO**"
            ],
            "metadata": {
                "azdata_cell_guid": "6a2cdf64-908d-42ae-a2c1-93c82c2d7c9f"
            },
            "attachments": {}
        },
        {
            "cell_type": "code",
            "source": [
                "USE Desafio"
            ],
            "metadata": {
                "azdata_cell_guid": "60ec0cd6-5046-46fa-ac11-750da94fd714"
            },
            "outputs": [
                {
                    "output_type": "display_data",
                    "data": {
                        "text/html": "Commands completed successfully."
                    },
                    "metadata": {}
                },
                {
                    "output_type": "display_data",
                    "data": {
                        "text/html": "Total execution time: 00:00:00.001"
                    },
                    "metadata": {}
                }
            ],
            "execution_count": 59
        },
        {
            "cell_type": "code",
            "source": [
                "--- Criando a tabela dimensão Cidade\r\n",
                "CREATE TABLE Cidade\r\n",
                "(     \r\n",
                "\tID_Cidade INT PRIMARY KEY NOT NULL, \r\n",
                "\tNome_Cidade  VARCHAR(60) NOT NULL,\r\n",
                "    UF VARCHAR(2)\r\n",
                " ) ;"
            ],
            "metadata": {
                "azdata_cell_guid": "e34c410a-cfac-42a3-863b-2f1fedfeb2a1"
            },
            "outputs": [
                {
                    "output_type": "display_data",
                    "data": {
                        "text/html": "Commands completed successfully."
                    },
                    "metadata": {}
                },
                {
                    "output_type": "display_data",
                    "data": {
                        "text/html": "Total execution time: 00:00:00.333"
                    },
                    "metadata": {}
                }
            ],
            "execution_count": 60
        },
        {
            "cell_type": "code",
            "source": [
                "--- Criando a tabela dimensão Vendedores\r\n",
                "CREATE TABLE Vendedores\r\n",
                "(     \r\n",
                "\tID_Vendedor INT PRIMARY KEY NOT NULL, \r\n",
                "\tNome_Vended  VARCHAR(60) NOT NULL,\r\n",
                "    salario DECIMAL(10, 2)\r\n",
                " ) ;"
            ],
            "metadata": {
                "azdata_cell_guid": "155d34b4-bfef-4266-9dff-b843363e4b5f"
            },
            "outputs": [
                {
                    "output_type": "display_data",
                    "data": {
                        "text/html": "Commands completed successfully."
                    },
                    "metadata": {}
                },
                {
                    "output_type": "display_data",
                    "data": {
                        "text/html": "Total execution time: 00:00:00.102"
                    },
                    "metadata": {}
                }
            ],
            "execution_count": 61
        },
        {
            "cell_type": "code",
            "source": [
                "--- Criando a tabela dimensão Categoria\r\n",
                "CREATE TABLE Categoria\r\n",
                "(     \r\n",
                "\tID_Categoria INT PRIMARY KEY NOT NULL, \r\n",
                "\tNome_Categor VARCHAR(20) NOT NULL\r\n",
                " ) ;"
            ],
            "metadata": {
                "azdata_cell_guid": "85226df1-d848-41a3-9622-b4fa2271bfac"
            },
            "outputs": [
                {
                    "output_type": "display_data",
                    "data": {
                        "text/html": "Commands completed successfully."
                    },
                    "metadata": {}
                },
                {
                    "output_type": "display_data",
                    "data": {
                        "text/html": "Total execution time: 00:00:00.046"
                    },
                    "metadata": {}
                }
            ],
            "execution_count": 62
        },
        {
            "cell_type": "code",
            "source": [
                "--- Criando a tabela dimensão Unidade\r\n",
                "CREATE TABLE Unidade\r\n",
                "(     \r\n",
                "\tID_Unidade VARCHAR(3) PRIMARY KEY NOT NULL, \r\n",
                "\tDesc_Unidade VARCHAR(25) NOT NULL\r\n",
                " ) ;"
            ],
            "metadata": {
                "azdata_cell_guid": "815d60ed-7b2a-41ba-81c9-084a38e5a74c"
            },
            "outputs": [
                {
                    "output_type": "display_data",
                    "data": {
                        "text/html": "Commands completed successfully."
                    },
                    "metadata": {}
                },
                {
                    "output_type": "display_data",
                    "data": {
                        "text/html": "Total execution time: 00:00:02.457"
                    },
                    "metadata": {}
                }
            ],
            "execution_count": 63
        },
        {
            "cell_type": "code",
            "source": [
                "--- Criando a tabela dimensão Cliente\r\n",
                "CREATE TABLE Cliente\r\n",
                "( \r\n",
                "\tID_Cliente INT PRIMARY KEY NOT NULL, \r\n",
                "\tNome_Cliente  VARCHAR(60) NOT NULL,\r\n",
                "    Endereco  VARCHAR(60) NOT NULL,\r\n",
                "    Numero VARCHAR(10) NOT NULL, \r\n",
                "    ID_Cidade INT NOT NULL, \r\n",
                "    Cep VARCHAR(9)      \r\n",
                ") ;"
            ],
            "metadata": {
                "azdata_cell_guid": "cd26827e-ff93-4c28-a21a-d07e1a5ff9a3"
            },
            "outputs": [
                {
                    "output_type": "display_data",
                    "data": {
                        "text/html": "Commands completed successfully."
                    },
                    "metadata": {}
                },
                {
                    "output_type": "display_data",
                    "data": {
                        "text/html": "Total execution time: 00:00:00.267"
                    },
                    "metadata": {}
                }
            ],
            "execution_count": 64
        },
        {
            "cell_type": "code",
            "source": [
                "ALTER TABLE Cliente\r\n",
                "ADD FOREIGN KEY (ID_Cidade) REFERENCES Cidade(ID_Cidade);"
            ],
            "metadata": {
                "azdata_cell_guid": "26e492e6-3125-4879-98f5-328251e31eac"
            },
            "outputs": [
                {
                    "output_type": "display_data",
                    "data": {
                        "text/html": "Commands completed successfully."
                    },
                    "metadata": {}
                },
                {
                    "output_type": "display_data",
                    "data": {
                        "text/html": "Total execution time: 00:00:01.087"
                    },
                    "metadata": {}
                }
            ],
            "execution_count": 65
        },
        {
            "cell_type": "code",
            "source": [
                "--- Criando a tabela dimensão Produtos\r\n",
                "CREATE TABLE Produtos\r\n",
                "( \r\n",
                "\tID_Prod INT PRIMARY KEY NOT NULL,\r\n",
                "\tNome_Prod  VARCHAR(50) NOT NULL,\r\n",
                "    ID_Categoria  INT NOT NULL,\r\n",
                "    ID_Unidade VARCHAR(3) NOT NULL,\r\n",
                "    Preco DECIMAL(10, 2)      \r\n",
                ") ;"
            ],
            "metadata": {
                "azdata_cell_guid": "9fc0e1d2-cc31-4671-938d-234b70bfeb2c"
            },
            "outputs": [
                {
                    "output_type": "display_data",
                    "data": {
                        "text/html": "Commands completed successfully."
                    },
                    "metadata": {}
                },
                {
                    "output_type": "display_data",
                    "data": {
                        "text/html": "Total execution time: 00:00:01.047"
                    },
                    "metadata": {}
                }
            ],
            "execution_count": 66
        },
        {
            "cell_type": "code",
            "source": [
                "ALTER TABLE Produtos\r\n",
                "ADD FOREIGN KEY (ID_Categoria) REFERENCES Categoria(ID_Categoria);\r\n",
                "\r\n",
                "ALTER TABLE Produtos\r\n",
                "ADD FOREIGN KEY (ID_Unidade) REFERENCES Unidade(ID_Unidade);"
            ],
            "metadata": {
                "azdata_cell_guid": "c15c8823-490c-4ceb-99f8-aff884e74f5b"
            },
            "outputs": [
                {
                    "output_type": "display_data",
                    "data": {
                        "text/html": "Commands completed successfully."
                    },
                    "metadata": {}
                },
                {
                    "output_type": "display_data",
                    "data": {
                        "text/html": "Total execution time: 00:00:00.093"
                    },
                    "metadata": {}
                }
            ],
            "execution_count": 67
        },
        {
            "cell_type": "markdown",
            "source": [
                "**CRIANDO TABELAS FATO**"
            ],
            "metadata": {
                "azdata_cell_guid": "fc53f598-b2da-4349-8a1b-c64af112622b"
            },
            "attachments": {}
        },
        {
            "cell_type": "code",
            "source": [
                "--- Criando a tabela fato Vendas\r\n",
                "CREATE TABLE Vendas\r\n",
                "( \r\n",
                "\tNum_Vend INT PRIMARY KEY NOT NULL,\r\n",
                "\tData_Ven datetime,\r\n",
                "    ID_Cliente  INT NOT NULL,\r\n",
                "    ID_Vendedor INT NOT NULL,\r\n",
                "    Status VARCHAR(1)      \r\n",
                ") ;"
            ],
            "metadata": {
                "azdata_cell_guid": "77ce5d90-1354-466f-81a0-9a80769ee094",
                "tags": []
            },
            "outputs": [
                {
                    "output_type": "display_data",
                    "data": {
                        "text/html": "Commands completed successfully."
                    },
                    "metadata": {}
                },
                {
                    "output_type": "display_data",
                    "data": {
                        "text/html": "Total execution time: 00:00:00.229"
                    },
                    "metadata": {}
                }
            ],
            "execution_count": 68
        },
        {
            "cell_type": "code",
            "source": [
                "ALTER TABLE Vendas\r\n",
                "ADD FOREIGN KEY (ID_Cliente) REFERENCES Cliente(ID_Cliente);\r\n",
                "\r\n",
                "ALTER TABLE Vendas\r\n",
                "ADD FOREIGN KEY (ID_Vendedor) REFERENCES Vendedores(ID_Vendedor);\r\n",
                "\r\n",
                ""
            ],
            "metadata": {
                "azdata_cell_guid": "f346bec1-0813-4072-bcce-64dec467aa99"
            },
            "outputs": [
                {
                    "output_type": "display_data",
                    "data": {
                        "text/html": "Commands completed successfully."
                    },
                    "metadata": {}
                },
                {
                    "output_type": "display_data",
                    "data": {
                        "text/html": "Total execution time: 00:00:00.226"
                    },
                    "metadata": {}
                }
            ],
            "execution_count": 69
        },
        {
            "cell_type": "code",
            "source": [
                "--- Criando a tabela fato Venda_Itens\r\n",
                "CREATE TABLE Venda_Itens\r\n",
                "( \r\n",
                "\tNum_Ve INT NOT NULL,\r\n",
                "    Num_Se INT NOT NULL,\r\n",
                "    ID_Prod  INT NOT NULL,\r\n",
                "    QTDE DECIMAL(10, 2) NOT NULL,\r\n",
                "    Val_Uni DECIMAL(10, 2),\r\n",
                "    Val_Tot DECIMAL(10, 2)    \r\n",
                ") ;\r\n",
                "\r\n",
                "ALTER TABLE Venda_Itens ADD PRIMARY KEY (Num_Ve, Num_se);\r\n",
                "\r\n",
                ""
            ],
            "metadata": {
                "azdata_cell_guid": "438447ac-f0d7-42b4-900b-22faba5ea155"
            },
            "outputs": [
                {
                    "output_type": "display_data",
                    "data": {
                        "text/html": "Commands completed successfully."
                    },
                    "metadata": {}
                },
                {
                    "output_type": "display_data",
                    "data": {
                        "text/html": "Total execution time: 00:00:00.394"
                    },
                    "metadata": {}
                }
            ],
            "execution_count": 70
        },
        {
            "cell_type": "code",
            "source": [
                "ALTER TABLE Venda_Itens\r\n",
                "ADD FOREIGN KEY (Num_Ve) REFERENCES Vendas(Num_Vend);\r\n",
                "\r\n",
                "ALTER TABLE Venda_Itens\r\n",
                "ADD FOREIGN KEY (ID_Prod) REFERENCES Produtos(ID_Prod);\r\n",
                ""
            ],
            "metadata": {
                "azdata_cell_guid": "a57b8668-4efc-4180-a5c3-1320ffaf7bb4"
            },
            "outputs": [
                {
                    "output_type": "display_data",
                    "data": {
                        "text/html": "Commands completed successfully."
                    },
                    "metadata": {}
                },
                {
                    "output_type": "display_data",
                    "data": {
                        "text/html": "Total execution time: 00:00:00.107"
                    },
                    "metadata": {}
                }
            ],
            "execution_count": 71
        }
    ]
}
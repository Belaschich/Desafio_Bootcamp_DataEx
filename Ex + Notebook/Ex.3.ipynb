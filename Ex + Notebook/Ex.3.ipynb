{
    "metadata": {
        "kernelspec": {
            "name": "SQL",
            "display_name": "SQL",
            "language": "sql"
        },
        "language_info": {
            "name": "sql",
            "version": ""
        }
    },
    "nbformat_minor": 2,
    "nbformat": 4,
    "cells": [
        {
            "cell_type": "markdown",
            "source": [
                "**UTILIZANDO A BASE DE DADOS TREINO  PARA TIRAR INSIGHT**"
            ],
            "metadata": {
                "azdata_cell_guid": "a9728302-44ac-4066-a79e-7b1120fe2f3e"
            },
            "attachments": {}
        },
        {
            "cell_type": "code",
            "source": [
                "USE TREINO"
            ],
            "metadata": {
                "azdata_cell_guid": "c96fdbb1-a001-4979-9d6d-b30c3b61b957"
            },
            "outputs": [
                {
                    "output_type": "display_data",
                    "data": {
                        "text/html": "Commands completed successfully."
                    },
                    "metadata": {}
                },
                {
                    "output_type": "display_data",
                    "data": {
                        "text/html": "Total execution time: 00:00:00.014"
                    },
                    "metadata": {}
                }
            ],
            "execution_count": 1
        },
        {
            "cell_type": "code",
            "source": [
                "--EX.3 - Liste todos os clientes com seus nomes e com suas respectivas cidades e estados\r\n",
                "SELECT NOME_CLIENTE, NOME_CIDADE, UF From CLIENTE CLI INNER JOIN CIDADE CID ON CLI.ID_CIDADE = CID.ID_CIDADE"
            ],
            "metadata": {
                "azdata_cell_guid": "6a5aaa60-d85f-407a-8338-6f37e7acf315"
            },
            "outputs": [
                {
                    "output_type": "display_data",
                    "data": {
                        "text/html": "(10 rows affected)"
                    },
                    "metadata": {}
                },
                {
                    "output_type": "display_data",
                    "data": {
                        "text/html": "Total execution time: 00:00:01.038"
                    },
                    "metadata": {}
                },
                {
                    "output_type": "execute_result",
                    "execution_count": 5,
                    "data": {
                        "application/vnd.dataresource+json": {
                            "schema": {
                                "fields": [
                                    {
                                        "name": "NOME_CLIENTE"
                                    },
                                    {
                                        "name": "NOME_CIDADE"
                                    },
                                    {
                                        "name": "UF"
                                    }
                                ]
                            },
                            "data": [
                                {
                                    "0": "Rede Atacado",
                                    "1": "Rio de Janeiro",
                                    "2": "RJ"
                                },
                                {
                                    "0": "Rede MercoSul",
                                    "1": "Niterói",
                                    "2": "RJ"
                                },
                                {
                                    "0": "Lojas Vitoria",
                                    "1": "Volta Redonda",
                                    "2": "RJ"
                                },
                                {
                                    "0": "Hiper Giga",
                                    "1": "São Paulo",
                                    "2": "SP"
                                },
                                {
                                    "0": "Giga 10",
                                    "1": "Campinas",
                                    "2": "SP"
                                },
                                {
                                    "0": "Lojas Mega",
                                    "1": "Jundiai",
                                    "2": "SP"
                                },
                                {
                                    "0": "Super Tera",
                                    "1": "Rio de Janeiro",
                                    "2": "RJ"
                                },
                                {
                                    "0": "Rede mais",
                                    "1": "Niterói",
                                    "2": "RJ"
                                },
                                {
                                    "0": "Lojas Plus",
                                    "1": "Volta Redonda",
                                    "2": "RJ"
                                },
                                {
                                    "0": "Hiper Sempre",
                                    "1": "São Paulo",
                                    "2": "SP"
                                }
                            ]
                        },
                        "text/html": "<table><tr><th>NOME_CLIENTE</th><th>NOME_CIDADE</th><th>UF</th></tr><tr><td>Rede Atacado</td><td>Rio de Janeiro</td><td>RJ</td></tr><tr><td>Rede MercoSul</td><td>Niterói</td><td>RJ</td></tr><tr><td>Lojas Vitoria</td><td>Volta Redonda</td><td>RJ</td></tr><tr><td>Hiper Giga</td><td>São Paulo</td><td>SP</td></tr><tr><td>Giga 10</td><td>Campinas</td><td>SP</td></tr><tr><td>Lojas Mega</td><td>Jundiai</td><td>SP</td></tr><tr><td>Super Tera</td><td>Rio de Janeiro</td><td>RJ</td></tr><tr><td>Rede mais</td><td>Niterói</td><td>RJ</td></tr><tr><td>Lojas Plus</td><td>Volta Redonda</td><td>RJ</td></tr><tr><td>Hiper Sempre</td><td>São Paulo</td><td>SP</td></tr></table>"
                    },
                    "metadata": {}
                }
            ],
            "execution_count": 5
        }
    ]
}
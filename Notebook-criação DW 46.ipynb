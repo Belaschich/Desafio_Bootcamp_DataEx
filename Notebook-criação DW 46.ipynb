{
    "metadata": {
        "kernelspec": {
            "name": "SQL",
            "display_name": "SQL",
            "language": "sql"
        },
        "language_info": {
            "name": "sql",
            "version": ""
        }
    },
    "nbformat_minor": 2,
    "nbformat": 4,
    "cells": [
        {
            "cell_type": "markdown",
            "source": [
                "**CRIANDO A BASE DE DADOS DW\\_46**"
            ],
            "metadata": {
                "azdata_cell_guid": "07b89bb0-450e-4ca5-a9df-b6949a2c1e5e"
            },
            "attachments": {}
        },
        {
            "cell_type": "code",
            "source": [
                "CREATE DATABASE DW_46"
            ],
            "metadata": {
                "azdata_cell_guid": "b277457e-09f6-4f8c-85a7-f9f8332902f5"
            },
            "outputs": [
                {
                    "output_type": "display_data",
                    "data": {
                        "text/html": "Commands completed successfully."
                    },
                    "metadata": {}
                },
                {
                    "output_type": "display_data",
                    "data": {
                        "text/html": "Total execution time: 00:00:04.086"
                    },
                    "metadata": {}
                }
            ],
            "execution_count": 1
        },
        {
            "cell_type": "markdown",
            "source": [
                "**ACESSANDO A BASE DE DADOS PARA CRIAR TABELAS**"
            ],
            "metadata": {
                "azdata_cell_guid": "75816c42-c15b-43b3-bd0e-de32cd344bcf"
            },
            "attachments": {}
        },
        {
            "cell_type": "code",
            "source": [
                "USE DW_46"
            ],
            "metadata": {
                "azdata_cell_guid": "9c92fa8c-a022-4a4b-af2a-3b0792704625"
            },
            "outputs": [
                {
                    "output_type": "display_data",
                    "data": {
                        "text/html": "Commands completed successfully."
                    },
                    "metadata": {}
                },
                {
                    "output_type": "display_data",
                    "data": {
                        "text/html": "Total execution time: 00:00:00.001"
                    },
                    "metadata": {}
                }
            ],
            "execution_count": 12
        },
        {
            "cell_type": "markdown",
            "source": [
                "**CRIANDO A TABELA LOG\\_ CARGAS**"
            ],
            "metadata": {
                "azdata_cell_guid": "b930c3fd-5043-4857-95ed-4b7987f05bb1"
            },
            "attachments": {}
        },
        {
            "cell_type": "code",
            "source": [
                "--CRIANDO TABELA DE LOG\r\n",
                "IF NOT EXISTS\r\n",
                " (SELECT * FROM sysobjects WHERE name='LOG_CARGAS' AND xtype='U')\r\n",
                "\r\n",
                "CREATE TABLE LOG_CARGAS\r\n",
                " (ID INT IDENTITY(1,1) NOT NULL PRIMARY KEY,\r\n",
                " NUMERO_ERRO INT,\r\n",
                " SERVERIDADE_ERRO INT,\r\n",
                " ESTADO_ERRO  INT,\r\n",
                " PROC_ERRO NVARCHAR(255),\r\n",
                " LINHA_ERRO INT,\r\n",
                " MSG_ERRO NVARCHAR(255),\r\n",
                " SITUACAO NVARCHAR(10),\r\n",
                " PROCESSO NVARCHAR(30),\r\n",
                " DATA_INI DATETIME,\r\n",
                " DATA_FIM DATETIME  \r\n",
                " )\r\n",
                " GO"
            ],
            "metadata": {
                "azdata_cell_guid": "cfcf3848-a077-4260-9365-4ccbb2f77af2",
                "tags": []
            },
            "outputs": [
                {
                    "output_type": "display_data",
                    "data": {
                        "text/html": "Commands completed successfully."
                    },
                    "metadata": {}
                },
                {
                    "output_type": "display_data",
                    "data": {
                        "text/html": "Total execution time: 00:00:00.022"
                    },
                    "metadata": {}
                }
            ],
            "execution_count": 13
        },
        {
            "cell_type": "markdown",
            "source": [
                "**CRIANDO A TABELA STAGING \"STG\\_VENDAS\"**"
            ],
            "metadata": {
                "azdata_cell_guid": "b9995f30-ef85-44ab-a6a5-f896a6b4493b"
            },
            "attachments": {}
        },
        {
            "cell_type": "code",
            "source": [
                "-- CRIANDO TABELA STAGING\r\n",
                "IF NOT EXISTS\r\n",
                "  (SELECT * FROM sysobjects WHERE name='STG_VENDAS' AND xtype='U')\r\n",
                "CREATE TABLE [dbo].[STG_VENDAS](\r\n",
                "\t[Segmento] [varchar](50) NULL,\r\n",
                "\t[Pais] [varchar](50) NULL,\r\n",
                "\t[Produto] [varchar](50) NULL,\r\n",
                "\t[Tipo_Desconto] [varchar](50) NULL,\r\n",
                "\t[Qtde_Vendas] [varchar](50) NULL,\r\n",
                "\t[Preco_custo] [varchar](50) NULL,\r\n",
                "\t[Preco_venda] [varchar](50) NULL,\r\n",
                "\t[Vendas_Bruta] [varchar](50) NULL,\r\n",
                "\t[Desconto] [varchar](50) NULL,\r\n",
                "\t[Vendas] [varchar](50) NULL,\r\n",
                "\t[Custo_venda] [varchar](50) NULL,\r\n",
                "\t[Lucro] [varchar](50) NULL,\r\n",
                "\t[Data_venda] [varchar](50) NULL\r\n",
                ") ON [PRIMARY]\r\n",
                "GO"
            ],
            "metadata": {
                "azdata_cell_guid": "e9dd8ba8-1a9c-4952-82b8-82157315a03c"
            },
            "outputs": [
                {
                    "output_type": "display_data",
                    "data": {
                        "text/html": "Commands completed successfully."
                    },
                    "metadata": {}
                },
                {
                    "output_type": "display_data",
                    "data": {
                        "text/html": "Total execution time: 00:00:01.723"
                    },
                    "metadata": {}
                }
            ],
            "execution_count": 37
        },
        {
            "cell_type": "markdown",
            "source": [
                "**CRIANDO TABELAS DIMENSÕES**"
            ],
            "metadata": {
                "azdata_cell_guid": "901daa62-c19c-4b72-b9e9-3e123eb888d8"
            },
            "attachments": {}
        },
        {
            "cell_type": "code",
            "source": [
                "---CRIANDO DIMENSÃO SEGMENTO\r\n",
                "IF NOT EXISTS\r\n",
                "  (SELECT * FROM sysobjects WHERE name='D_SEGMENTO' AND xtype='U')\r\n",
                "CREATE TABLE [dbo].[D_SEGMENTO](\r\n",
                "    \t[Id_Segmento] [int] IDENTITY(1,1) NOT NULL,\r\n",
                "\t[NOME_Segmento] [varchar](50) NULL,\r\n",
                "PRIMARY KEY CLUSTERED \r\n",
                "(\r\n",
                "\t[Id_Segmento] ASC\r\n",
                ")WITH (PAD_INDEX = OFF, STATISTICS_NORECOMPUTE = OFF, IGNORE_DUP_KEY = OFF, ALLOW_ROW_LOCKS = ON, ALLOW_PAGE_LOCKS = ON, OPTIMIZE_FOR_SEQUENTIAL_KEY = OFF) ON [PRIMARY]\r\n",
                ") ON [PRIMARY]\r\n",
                "GO"
            ],
            "metadata": {
                "azdata_cell_guid": "1697f346-7349-4ce1-b578-7c4e4529d9d7"
            },
            "outputs": [
                {
                    "output_type": "display_data",
                    "data": {
                        "text/html": "Commands completed successfully."
                    },
                    "metadata": {}
                },
                {
                    "output_type": "display_data",
                    "data": {
                        "text/html": "Total execution time: 00:00:00.124"
                    },
                    "metadata": {}
                }
            ],
            "execution_count": 5
        },
        {
            "cell_type": "code",
            "source": [
                "---CRIANDO DIMENSÃO Pais\r\n",
                "IF NOT EXISTS\r\n",
                "  (SELECT * FROM sysobjects WHERE name='D_PAIS' AND xtype='U')\r\n",
                "CREATE TABLE [dbo].[D_PAIS](\r\n",
                "    \t[Id_Pais] [int] IDENTITY(1,1) NOT NULL,\r\n",
                "\t[NOME_pais] [varchar](50) NULL,\r\n",
                "PRIMARY KEY CLUSTERED \r\n",
                "(\r\n",
                "\t[Id_Pais] ASC\r\n",
                ")WITH (PAD_INDEX = OFF, STATISTICS_NORECOMPUTE = OFF, IGNORE_DUP_KEY = OFF, ALLOW_ROW_LOCKS = ON, ALLOW_PAGE_LOCKS = ON, OPTIMIZE_FOR_SEQUENTIAL_KEY = OFF) ON [PRIMARY]\r\n",
                ") ON [PRIMARY]\r\n",
                "GO"
            ],
            "metadata": {
                "azdata_cell_guid": "9e517f45-81e7-4eb4-96e5-cb7b0269341a"
            },
            "outputs": [
                {
                    "output_type": "display_data",
                    "data": {
                        "text/html": "Commands completed successfully."
                    },
                    "metadata": {}
                },
                {
                    "output_type": "display_data",
                    "data": {
                        "text/html": "Total execution time: 00:00:00.029"
                    },
                    "metadata": {}
                }
            ],
            "execution_count": 6
        },
        {
            "cell_type": "code",
            "source": [
                "---CRIANDO DIMENSÃO PRODUTO\r\n",
                "IF NOT EXISTS\r\n",
                "  (SELECT * FROM sysobjects WHERE name='D_Produto' AND xtype='U')\r\n",
                "CREATE TABLE [dbo].[D_Produto](\r\n",
                "    \t[Id_Produto] [int] IDENTITY(1,1) NOT NULL,\r\n",
                "\t[NOME_Produto] [varchar](50) NULL,\r\n",
                "PRIMARY KEY CLUSTERED \r\n",
                "(\r\n",
                "\t[Id_Produto] ASC\r\n",
                ")WITH (PAD_INDEX = OFF, STATISTICS_NORECOMPUTE = OFF, IGNORE_DUP_KEY = OFF, ALLOW_ROW_LOCKS = ON, ALLOW_PAGE_LOCKS = ON, OPTIMIZE_FOR_SEQUENTIAL_KEY = OFF) ON [PRIMARY]\r\n",
                ") ON [PRIMARY]\r\n",
                "GO"
            ],
            "metadata": {
                "azdata_cell_guid": "d10a1154-11c4-472d-af44-a72beada120b"
            },
            "outputs": [
                {
                    "output_type": "display_data",
                    "data": {
                        "text/html": "Commands completed successfully."
                    },
                    "metadata": {}
                },
                {
                    "output_type": "display_data",
                    "data": {
                        "text/html": "Total execution time: 00:00:00.016"
                    },
                    "metadata": {}
                }
            ],
            "execution_count": 7
        },
        {
            "cell_type": "code",
            "source": [
                "---CRIANDO DIMENSÃO Tipo_DES\r\n",
                "IF NOT EXISTS\r\n",
                "  (SELECT * FROM sysobjects WHERE name='D_TIPO_DES' AND xtype='U')\r\n",
                "CREATE TABLE [dbo].[D_TIPO_DES](\r\n",
                "    \t[Id_Tipo_des] [int] IDENTITY(1,1) NOT NULL,\r\n",
                "\t[NOME_Tipo_des] [varchar](50) NULL,\r\n",
                "PRIMARY KEY CLUSTERED \r\n",
                "(\r\n",
                "\t[Id_Tipo_des] ASC\r\n",
                ")WITH (PAD_INDEX = OFF, STATISTICS_NORECOMPUTE = OFF, IGNORE_DUP_KEY = OFF, ALLOW_ROW_LOCKS = ON, ALLOW_PAGE_LOCKS = ON, OPTIMIZE_FOR_SEQUENTIAL_KEY = OFF) ON [PRIMARY]\r\n",
                ") ON [PRIMARY]\r\n",
                "GO"
            ],
            "metadata": {
                "azdata_cell_guid": "aeb8fb67-94b0-4c61-8c8b-16982adf343e"
            },
            "outputs": [
                {
                    "output_type": "display_data",
                    "data": {
                        "text/html": "Commands completed successfully."
                    },
                    "metadata": {}
                },
                {
                    "output_type": "display_data",
                    "data": {
                        "text/html": "Total execution time: 00:00:00.328"
                    },
                    "metadata": {}
                }
            ],
            "execution_count": 8
        },
        {
            "cell_type": "markdown",
            "source": [
                "**CRIANDO TABELA FATO**"
            ],
            "metadata": {
                "azdata_cell_guid": "d1bc97db-8dfc-4fcc-be5c-68d7a2988b3a"
            },
            "attachments": {}
        },
        {
            "cell_type": "code",
            "source": [
                "---CRIANDO TABELA FATO Qtde Vendas\r\n",
                "CREATE TABLE Qtde_Vendas\r\n",
                "( \r\n",
                "\tNum_Vend INT NOT NULL,\r\n",
                "\tID_Qtde_Vendas INT PRIMARY KEY NOT NULL      \r\n",
                ") ;"
            ],
            "metadata": {
                "azdata_cell_guid": "2bcaa352-602c-4e9c-9dc6-d99b73a36378",
                "tags": []
            },
            "outputs": [
                {
                    "output_type": "display_data",
                    "data": {
                        "text/html": "Commands completed successfully."
                    },
                    "metadata": {}
                },
                {
                    "output_type": "display_data",
                    "data": {
                        "text/html": "Total execution time: 00:00:00.046"
                    },
                    "metadata": {}
                }
            ],
            "execution_count": 9
        },
        {
            "cell_type": "code",
            "source": [
                "---CRIANDO TABELA FATO Preco de custo\r\n",
                "CREATE TABLE Preco_custo\r\n",
                "( \r\n",
                "\tID_Preco_custo INT PRIMARY KEY NOT NULL,\r\n",
                "    Val_custo DECIMAL(10, 2) NOT NULL      \r\n",
                ") ;"
            ],
            "metadata": {
                "azdata_cell_guid": "8fc40413-11c6-4bfb-b6c2-abf01134aac1"
            },
            "outputs": [
                {
                    "output_type": "display_data",
                    "data": {
                        "text/html": "Commands completed successfully."
                    },
                    "metadata": {}
                },
                {
                    "output_type": "display_data",
                    "data": {
                        "text/html": "Total execution time: 00:00:00.010"
                    },
                    "metadata": {}
                }
            ],
            "execution_count": 10
        },
        {
            "cell_type": "code",
            "source": [
                "---CRIANDO TABELA FATO Preco de venda\r\n",
                "CREATE TABLE Preco_venda\r\n",
                "( \r\n",
                "\tID_Preco_venda INT PRIMARY KEY NOT NULL,\r\n",
                "    Val_venda DECIMAL(10, 2) NOT NULL      \r\n",
                ") ;"
            ],
            "metadata": {
                "azdata_cell_guid": "e977a168-89b2-49ef-881d-7b03e6859e84",
                "tags": []
            },
            "outputs": [
                {
                    "output_type": "display_data",
                    "data": {
                        "text/html": "Commands completed successfully."
                    },
                    "metadata": {}
                },
                {
                    "output_type": "display_data",
                    "data": {
                        "text/html": "Total execution time: 00:00:00.015"
                    },
                    "metadata": {}
                }
            ],
            "execution_count": 11
        },
        {
            "cell_type": "code",
            "source": [
                "---CRIANDO TABELA FATO Vendas Bruta\r\n",
                "CREATE TABLE Vendas_Bruta\r\n",
                "( \r\n",
                "\tID_Vendas_Bruta INT PRIMARY KEY NOT NULL,\r\n",
                "    Val_Vendas_Bruta DECIMAL(10, 2) NOT NULL      \r\n",
                ") ;"
            ],
            "metadata": {
                "azdata_cell_guid": "a53bbd33-6621-4346-8fef-81035a8c5ccd"
            },
            "outputs": [
                {
                    "output_type": "display_data",
                    "data": {
                        "text/html": "Commands completed successfully."
                    },
                    "metadata": {}
                },
                {
                    "output_type": "display_data",
                    "data": {
                        "text/html": "Total execution time: 00:00:00.044"
                    },
                    "metadata": {}
                }
            ],
            "execution_count": 12
        },
        {
            "cell_type": "code",
            "source": [
                "---CRIANDO TABELA FATO Vendas\r\n",
                "CREATE TABLE Vendas\r\n",
                "( \r\n",
                "\tID_Vendas INT PRIMARY KEY NOT NULL,\r\n",
                "    Val_Vendas DECIMAL(10, 2) NOT NULL      \r\n",
                ") ;"
            ],
            "metadata": {
                "azdata_cell_guid": "14cb477b-057a-49b9-8dc3-9c30fc730398"
            },
            "outputs": [
                {
                    "output_type": "display_data",
                    "data": {
                        "text/html": "Commands completed successfully."
                    },
                    "metadata": {}
                },
                {
                    "output_type": "display_data",
                    "data": {
                        "text/html": "Total execution time: 00:00:00.030"
                    },
                    "metadata": {}
                }
            ],
            "execution_count": 13
        },
        {
            "cell_type": "code",
            "source": [
                "---CRIANDO TABELA FATO Custo da Lucro\r\n",
                "CREATE TABLE Lucro\r\n",
                "( \r\n",
                "\tID_Lucro INT PRIMARY KEY NOT NULL,\r\n",
                "    Val_Lucro DECIMAL(10, 2) NOT NULL      \r\n",
                ") ;"
            ],
            "metadata": {
                "azdata_cell_guid": "11a7b387-a87d-4b3b-a11b-3ba85c06de02"
            },
            "outputs": [
                {
                    "output_type": "display_data",
                    "data": {
                        "text/html": "Commands completed successfully."
                    },
                    "metadata": {}
                },
                {
                    "output_type": "display_data",
                    "data": {
                        "text/html": "Total execution time: 00:00:00.022"
                    },
                    "metadata": {}
                }
            ],
            "execution_count": 14
        },
        {
            "cell_type": "code",
            "source": [
                "---CRIANDO TABELA FATO Custo da venda\r\n",
                "CREATE TABLE Custo_venda\r\n",
                "( \r\n",
                "\tID_Custo_venda INT PRIMARY KEY NOT NULL,\r\n",
                "    Val_Custo_venda DECIMAL(10, 2) NOT NULL      \r\n",
                ") ;"
            ],
            "metadata": {
                "azdata_cell_guid": "a3ec2bc6-16a6-435b-8b6b-eebd5141872a"
            },
            "outputs": [
                {
                    "output_type": "display_data",
                    "data": {
                        "text/html": "Commands completed successfully."
                    },
                    "metadata": {}
                },
                {
                    "output_type": "display_data",
                    "data": {
                        "text/html": "Total execution time: 00:00:00.002"
                    },
                    "metadata": {}
                }
            ],
            "execution_count": 15
        },
        {
            "cell_type": "code",
            "source": [
                "---CRIANDO TABELA FATO Desconto\r\n",
                "CREATE TABLE Desconto\r\n",
                "( \r\n",
                "\tID_Desconto INT PRIMARY KEY NOT NULL,\r\n",
                "    Val_Desconto DECIMAL(10, 2) NOT NULL      \r\n",
                ") ;\r\n",
                "\r\n",
                ""
            ],
            "metadata": {
                "azdata_cell_guid": "54c0b8b1-8554-4807-b8cd-55a4a991d8bf"
            },
            "outputs": [
                {
                    "output_type": "display_data",
                    "data": {
                        "text/html": "Commands completed successfully."
                    },
                    "metadata": {}
                },
                {
                    "output_type": "display_data",
                    "data": {
                        "text/html": "Total execution time: 00:00:00.002"
                    },
                    "metadata": {}
                }
            ],
            "execution_count": 16
        },
        {
            "cell_type": "code",
            "source": [
                "---CRIANDO TABELA FATO Data venda\r\n",
                "CREATE TABLE Data_venda\r\n",
                "( \r\n",
                "\tID_Data_venda INT PRIMARY KEY NOT NULL,\r\n",
                "    Data_venda DATETIME NOT NULL      \r\n",
                ") ;\r\n",
                ""
            ],
            "metadata": {
                "azdata_cell_guid": "8eda33dc-f716-4baf-9e59-c6c1c457c033"
            },
            "outputs": [
                {
                    "output_type": "display_data",
                    "data": {
                        "text/html": "Commands completed successfully."
                    },
                    "metadata": {}
                },
                {
                    "output_type": "display_data",
                    "data": {
                        "text/html": "Total execution time: 00:00:00.041"
                    },
                    "metadata": {}
                }
            ],
            "execution_count": 17
        },
        {
            "cell_type": "markdown",
            "source": [
                "**CARREGANDO E MESCLANDO** **AS TABELAS DIMENSÃO COM A TABELA STAGIN**"
            ],
            "metadata": {
                "azdata_cell_guid": "04f3cfb3-9ec4-4732-ae3c-dfc88430ff3f"
            },
            "attachments": {}
        },
        {
            "cell_type": "code",
            "source": [
                "\r\n",
                "BEGIN TRANSACTION;  \r\n",
                "\tDECLARE @VDATA_INI DATETIME;\r\n",
                "\tSET @VDATA_INI= GETDATE();\r\n",
                "BEGIN TRY  \r\n",
                "\r\n",
                "MERGE D_SEGMENTO AS Destino\r\n",
                "\r\n",
                "USING (SELECT DISTINCT SEGMENTO FROM STG_VENDAS) AS Origem\r\n",
                "\r\n",
                "ON Destino.NOME_Segmento = Origem.SEGMENTO\r\n",
                "\r\n",
                "-- Há registro no destino e na origem\r\n",
                "WHEN MATCHED \r\n",
                "\r\n",
                "THEN \r\n",
                "    UPDATE SET NOME_Segmento = Origem.SEGMENTO\r\n",
                "\r\n",
                "--Quando não há registro no destino e há na origem\r\n",
                "WHEN NOT MATCHED \r\n",
                "\r\n",
                "THEN \r\n",
                "    INSERT (NOME_Segmento) VALUES (Origem.SEGMENTO);\r\n",
                "\r\n",
                "   END TRY  \r\n",
                "BEGIN CATCH\r\n",
                " \tIF @@TRANCOUNT > 0  \r\n",
                "        ROLLBACK TRANSACTION; \r\n",
                "\r\n",
                "INSERT INTO [dbo].[LOG_CARGAS]\r\n",
                "           ([NUMERO_ERRO],\r\n",
                "           [SERVERIDADE_ERRO],\r\n",
                "           [ESTADO_ERRO],\r\n",
                "           [PROC_ERRO],\r\n",
                "           [LINHA_ERRO],\r\n",
                "           [MSG_ERRO],\r\n",
                "           [SITUACAO],\r\n",
                "           [PROCESSO],\r\n",
                "           [DATA_INI],\r\n",
                "\t\t   [DATA_FIM])\r\n",
                "     VALUES\r\n",
                "        (ERROR_NUMBER(),\r\n",
                "        ERROR_SEVERITY(),\r\n",
                "        ERROR_STATE(),\r\n",
                "        ERROR_PROCEDURE(),\r\n",
                "        ERROR_LINE() ,\r\n",
                "        ERROR_MESSAGE() ,\r\n",
                "        'ERRO',\r\n",
                "        'CARGA SEGMENTO',\r\n",
                "\t\t@VDATA_INI,\r\n",
                "\t\tGETDATE()\r\n",
                "\t\t)\r\n",
                "\r\n",
                "        \r\n",
                "END CATCH;  \r\n",
                "\r\n",
                "INSERT INTO LOG_CARGAS\r\n",
                "           ([NUMERO_ERRO],\r\n",
                "           [SERVERIDADE_ERRO],\r\n",
                "           [ESTADO_ERRO],\r\n",
                "           [PROC_ERRO],\r\n",
                "           [LINHA_ERRO],\r\n",
                "           [MSG_ERRO],\r\n",
                "           [SITUACAO],\r\n",
                "           [PROCESSO],\r\n",
                "           [DATA_INI],\r\n",
                "\t\t   [DATA_FIM])\r\n",
                "     VALUES\r\n",
                "        (ERROR_NUMBER(),\r\n",
                "        ERROR_SEVERITY(),\r\n",
                "        ERROR_STATE(),\r\n",
                "        ERROR_PROCEDURE(),\r\n",
                "        ERROR_LINE() ,\r\n",
                "        ERROR_MESSAGE() ,\r\n",
                "        'SUCESSO',\r\n",
                "       'CARGA SEGMENTO',\r\n",
                "\t\t@VDATA_INI,\r\n",
                "\t\tGETDATE()\r\n",
                "\t\t)\r\n",
                "\r\n",
                "IF @@TRANCOUNT > 0  \r\n",
                "    COMMIT TRANSACTION;  \r\n",
                "GO"
            ],
            "metadata": {
                "azdata_cell_guid": "206b245a-20a3-44b3-8448-2211fdb46baf"
            },
            "outputs": [
                {
                    "output_type": "display_data",
                    "data": {
                        "text/html": "(0 rows affected)"
                    },
                    "metadata": {}
                },
                {
                    "output_type": "display_data",
                    "data": {
                        "text/html": "(1 row affected)"
                    },
                    "metadata": {}
                },
                {
                    "output_type": "display_data",
                    "data": {
                        "text/html": "Total execution time: 00:00:00.920"
                    },
                    "metadata": {}
                }
            ],
            "execution_count": 3
        },
        {
            "cell_type": "code",
            "source": [
                "BEGIN TRANSACTION;  \r\n",
                "\tDECLARE @VDATA_INI DATETIME;\r\n",
                "\tSET @VDATA_INI= GETDATE();\r\n",
                "BEGIN TRY  \r\n",
                "\r\n",
                "MERGE D_PAIS AS Destino\r\n",
                "\r\n",
                "USING (SELECT DISTINCT Pais FROM STG_VENDAS) AS Origem\r\n",
                "\r\n",
                "ON Destino.NOME_pais = Origem.Pais\r\n",
                "\r\n",
                "-- Há registro no destino e na origem\r\n",
                "WHEN MATCHED \r\n",
                "\r\n",
                "THEN \r\n",
                "    UPDATE SET NOME_pais = Origem.Pais\r\n",
                "\r\n",
                "--Quando não há registro no destino e há na origem\r\n",
                "WHEN NOT MATCHED \r\n",
                "\r\n",
                "THEN \r\n",
                "    INSERT (NOME_pais) VALUES (Origem.Pais);\r\n",
                "\r\n",
                "   END TRY  \r\n",
                "BEGIN CATCH\r\n",
                " \tIF @@TRANCOUNT > 0  \r\n",
                "        ROLLBACK TRANSACTION; \r\n",
                "\r\n",
                "INSERT INTO [dbo].[LOG_CARGAS]\r\n",
                "           ([NUMERO_ERRO],\r\n",
                "           [SERVERIDADE_ERRO],\r\n",
                "           [ESTADO_ERRO],\r\n",
                "           [PROC_ERRO],\r\n",
                "           [LINHA_ERRO],\r\n",
                "           [MSG_ERRO],\r\n",
                "           [SITUACAO],\r\n",
                "           [PROCESSO],\r\n",
                "           [DATA_INI],\r\n",
                "\t\t   [DATA_FIM])\r\n",
                "     VALUES\r\n",
                "        (ERROR_NUMBER(),\r\n",
                "        ERROR_SEVERITY(),\r\n",
                "        ERROR_STATE(),\r\n",
                "        ERROR_PROCEDURE(),\r\n",
                "        ERROR_LINE() ,\r\n",
                "        ERROR_MESSAGE() ,\r\n",
                "        'ERRO',\r\n",
                "        'CARGA PAIS',\r\n",
                "\t\t@VDATA_INI,\r\n",
                "\t\tGETDATE()\r\n",
                "\t\t)\r\n",
                "\r\n",
                "        \r\n",
                "END CATCH;  \r\n",
                "\r\n",
                "INSERT INTO LOG_CARGAS\r\n",
                "           ([NUMERO_ERRO],\r\n",
                "           [SERVERIDADE_ERRO],\r\n",
                "           [ESTADO_ERRO],\r\n",
                "           [PROC_ERRO],\r\n",
                "           [LINHA_ERRO],\r\n",
                "           [MSG_ERRO],\r\n",
                "           [SITUACAO],\r\n",
                "           [PROCESSO],\r\n",
                "           [DATA_INI],\r\n",
                "\t\t   [DATA_FIM])\r\n",
                "     VALUES\r\n",
                "        (ERROR_NUMBER(),\r\n",
                "        ERROR_SEVERITY(),\r\n",
                "        ERROR_STATE(),\r\n",
                "        ERROR_PROCEDURE(),\r\n",
                "        ERROR_LINE() ,\r\n",
                "        ERROR_MESSAGE() ,\r\n",
                "        'SUCESSO',\r\n",
                "       'CARGA PAIS',\r\n",
                "\t\t@VDATA_INI,\r\n",
                "\t\tGETDATE()\r\n",
                "\t\t)\r\n",
                "\r\n",
                "IF @@TRANCOUNT > 0  \r\n",
                "    COMMIT TRANSACTION;  \r\n",
                "GO"
            ],
            "metadata": {
                "azdata_cell_guid": "814c7e10-d805-4fb7-9581-a84d8ff9dcb1"
            },
            "outputs": [
                {
                    "output_type": "display_data",
                    "data": {
                        "text/html": "(0 rows affected)"
                    },
                    "metadata": {}
                },
                {
                    "output_type": "display_data",
                    "data": {
                        "text/html": "(1 row affected)"
                    },
                    "metadata": {}
                },
                {
                    "output_type": "display_data",
                    "data": {
                        "text/html": "Total execution time: 00:00:00.037"
                    },
                    "metadata": {}
                }
            ],
            "execution_count": 39
        },
        {
            "cell_type": "code",
            "source": [
                "BEGIN TRANSACTION;  \r\n",
                "\tDECLARE @VDATA_INI DATETIME;\r\n",
                "\tSET @VDATA_INI= GETDATE();\r\n",
                "BEGIN TRY  \r\n",
                "\r\n",
                "MERGE D_Produto AS Destino\r\n",
                "\r\n",
                "USING (SELECT DISTINCT PRODUTO FROM STG_VENDAS) AS Origem\r\n",
                "\r\n",
                "ON Destino.NOME_Produto = Origem.PRODUTO\r\n",
                "\r\n",
                "-- Há registro no destino e na origem\r\n",
                "WHEN MATCHED \r\n",
                "\r\n",
                "THEN \r\n",
                "    UPDATE SET NOME_Produto = Origem.PRODUTO\r\n",
                "\r\n",
                "--Quando não há registro no destino e há na origem\r\n",
                "WHEN NOT MATCHED \r\n",
                "\r\n",
                "THEN \r\n",
                "    INSERT (NOME_Produto) VALUES (Origem.PRODUTO);\r\n",
                "\r\n",
                "   END TRY  \r\n",
                "BEGIN CATCH\r\n",
                " \tIF @@TRANCOUNT > 0  \r\n",
                "        ROLLBACK TRANSACTION; \r\n",
                "\r\n",
                "INSERT INTO [dbo].[LOG_CARGAS]\r\n",
                "           ([NUMERO_ERRO],\r\n",
                "           [SERVERIDADE_ERRO],\r\n",
                "           [ESTADO_ERRO],\r\n",
                "           [PROC_ERRO],\r\n",
                "           [LINHA_ERRO],\r\n",
                "           [MSG_ERRO],\r\n",
                "           [SITUACAO],\r\n",
                "           [PROCESSO],\r\n",
                "           [DATA_INI],\r\n",
                "\t\t   [DATA_FIM])\r\n",
                "     VALUES\r\n",
                "        (ERROR_NUMBER(),\r\n",
                "        ERROR_SEVERITY(),\r\n",
                "        ERROR_STATE(),\r\n",
                "        ERROR_PROCEDURE(),\r\n",
                "        ERROR_LINE() ,\r\n",
                "        ERROR_MESSAGE() ,\r\n",
                "        'ERRO',\r\n",
                "        'CARGA PRODUTO',\r\n",
                "\t\t@VDATA_INI,\r\n",
                "\t\tGETDATE()\r\n",
                "\t\t)\r\n",
                "\r\n",
                "        \r\n",
                "END CATCH;  \r\n",
                "\r\n",
                "INSERT INTO LOG_CARGAS\r\n",
                "           ([NUMERO_ERRO],\r\n",
                "           [SERVERIDADE_ERRO],\r\n",
                "           [ESTADO_ERRO],\r\n",
                "           [PROC_ERRO],\r\n",
                "           [LINHA_ERRO],\r\n",
                "           [MSG_ERRO],\r\n",
                "           [SITUACAO],\r\n",
                "           [PROCESSO],\r\n",
                "           [DATA_INI],\r\n",
                "\t\t   [DATA_FIM])\r\n",
                "     VALUES\r\n",
                "        (ERROR_NUMBER(),\r\n",
                "        ERROR_SEVERITY(),\r\n",
                "        ERROR_STATE(),\r\n",
                "        ERROR_PROCEDURE(),\r\n",
                "        ERROR_LINE() ,\r\n",
                "        ERROR_MESSAGE() ,\r\n",
                "        'SUCESSO',\r\n",
                "       'CARGA PRODUTO',\r\n",
                "\t\t@VDATA_INI,\r\n",
                "\t\tGETDATE()\r\n",
                "\t\t)\r\n",
                "\r\n",
                "IF @@TRANCOUNT > 0  \r\n",
                "    COMMIT TRANSACTION;  \r\n",
                "GO"
            ],
            "metadata": {
                "azdata_cell_guid": "d89ae554-5b13-4a85-af46-2034f7c78eb3"
            },
            "outputs": [
                {
                    "output_type": "display_data",
                    "data": {
                        "text/html": "(0 rows affected)"
                    },
                    "metadata": {}
                },
                {
                    "output_type": "display_data",
                    "data": {
                        "text/html": "(1 row affected)"
                    },
                    "metadata": {}
                },
                {
                    "output_type": "display_data",
                    "data": {
                        "text/html": "Total execution time: 00:00:01.007"
                    },
                    "metadata": {}
                }
            ],
            "execution_count": 5
        },
        {
            "cell_type": "code",
            "source": [
                "BEGIN TRANSACTION;  \r\n",
                "\tDECLARE @VDATA_INI DATETIME;\r\n",
                "\tSET @VDATA_INI= GETDATE();\r\n",
                "BEGIN TRY  \r\n",
                "\r\n",
                "MERGE D_TIPO_DES AS Destino\r\n",
                "\r\n",
                "USING (SELECT DISTINCT Tipo_Desconto FROM STG_VENDAS) AS Origem\r\n",
                "\r\n",
                "ON Destino.NOME_Tipo_des = Origem.Tipo_Desconto\r\n",
                "\r\n",
                "-- Há registro no destino e na origem\r\n",
                "WHEN MATCHED \r\n",
                "\r\n",
                "THEN \r\n",
                "    UPDATE SET NOME_Tipo_des = Origem.Tipo_Desconto\r\n",
                "\r\n",
                "--Quando não há registro no destino e há na origem\r\n",
                "WHEN NOT MATCHED \r\n",
                "\r\n",
                "THEN \r\n",
                "    INSERT (NOME_Tipo_des) VALUES (Origem.Tipo_Desconto);\r\n",
                "\r\n",
                "   END TRY  \r\n",
                "BEGIN CATCH\r\n",
                " \tIF @@TRANCOUNT > 0  \r\n",
                "        ROLLBACK TRANSACTION; \r\n",
                "\r\n",
                "INSERT INTO [dbo].[LOG_CARGAS]\r\n",
                "           ([NUMERO_ERRO],\r\n",
                "           [SERVERIDADE_ERRO],\r\n",
                "           [ESTADO_ERRO],\r\n",
                "           [PROC_ERRO],\r\n",
                "           [LINHA_ERRO],\r\n",
                "           [MSG_ERRO],\r\n",
                "           [SITUACAO],\r\n",
                "           [PROCESSO],\r\n",
                "           [DATA_INI],\r\n",
                "\t\t   [DATA_FIM])\r\n",
                "     VALUES\r\n",
                "        (ERROR_NUMBER(),\r\n",
                "        ERROR_SEVERITY(),\r\n",
                "        ERROR_STATE(),\r\n",
                "        ERROR_PROCEDURE(),\r\n",
                "        ERROR_LINE() ,\r\n",
                "        ERROR_MESSAGE() ,\r\n",
                "        'ERRO',\r\n",
                "        'CARGA TIPO DESCONTO',\r\n",
                "\t\t@VDATA_INI,\r\n",
                "\t\tGETDATE()\r\n",
                "\t\t)\r\n",
                "\r\n",
                "        \r\n",
                "END CATCH;  \r\n",
                "\r\n",
                "INSERT INTO LOG_CARGAS\r\n",
                "           ([NUMERO_ERRO],\r\n",
                "           [SERVERIDADE_ERRO],\r\n",
                "           [ESTADO_ERRO],\r\n",
                "           [PROC_ERRO],\r\n",
                "           [LINHA_ERRO],\r\n",
                "           [MSG_ERRO],\r\n",
                "           [SITUACAO],\r\n",
                "           [PROCESSO],\r\n",
                "           [DATA_INI],\r\n",
                "\t\t   [DATA_FIM])\r\n",
                "     VALUES\r\n",
                "        (ERROR_NUMBER(),\r\n",
                "        ERROR_SEVERITY(),\r\n",
                "        ERROR_STATE(),\r\n",
                "        ERROR_PROCEDURE(),\r\n",
                "        ERROR_LINE() ,\r\n",
                "        ERROR_MESSAGE() ,\r\n",
                "        'SUCESSO',\r\n",
                "       'CARGA TIPO DESCONTO',\r\n",
                "\t\t@VDATA_INI,\r\n",
                "\t\tGETDATE()\r\n",
                "\t\t)\r\n",
                "\r\n",
                "IF @@TRANCOUNT > 0  \r\n",
                "    COMMIT TRANSACTION;  \r\n",
                "GO"
            ],
            "metadata": {
                "azdata_cell_guid": "98c8d215-ade8-4f09-a183-2bed080aa80c"
            },
            "outputs": [
                {
                    "output_type": "display_data",
                    "data": {
                        "text/html": "(0 rows affected)"
                    },
                    "metadata": {}
                },
                {
                    "output_type": "display_data",
                    "data": {
                        "text/html": "(1 row affected)"
                    },
                    "metadata": {}
                },
                {
                    "output_type": "display_data",
                    "data": {
                        "text/html": "Total execution time: 00:00:00.096"
                    },
                    "metadata": {}
                }
            ],
            "execution_count": 20
        },
        {
            "cell_type": "markdown",
            "source": [
                "**CRIANDO A TABELA FATO\\_VENDA**"
            ],
            "metadata": {
                "azdata_cell_guid": "55307d00-0cef-473e-8bd9-bcbc2198366b"
            },
            "attachments": {}
        },
        {
            "cell_type": "code",
            "source": [
                "IF NOT EXISTS\r\n",
                "  (SELECT * FROM sysobjects WHERE name='FATO_VENDA' AND xtype='U')\r\n",
                "CREATE TABLE FATO_VENDA\r\n",
                "(\r\n",
                "id_Segmento  [int] NULL,\r\n",
                "id_Pais  [int] NULL,\r\n",
                "id_Produto  [int] NULL,\r\n",
                "id_Tipo_Des  [int] NULL,\r\n",
                "Qtd_Vendas DECIMAL(10,2) NULL,\r\n",
                "Preco_Custo DECIMAL(10,2) NULL,\r\n",
                "Preco_Venda DECIMAL(10,2) NULL,\r\n",
                "Vendas_Bruta DECIMAL(10,2) NULL,\r\n",
                "Vendas DECIMAL(10,2) NULL,\r\n",
                "Custo_venda DECIMAL(10,2) NULL,\r\n",
                "Desconto DECIMAL(10,2) NULL,\r\n",
                "Lucro DECIMAL(10,2) NULL,\r\n",
                "Data_venda DATE\r\n",
                ")"
            ],
            "metadata": {
                "azdata_cell_guid": "a055a229-d299-454f-bfc0-db7423e2edeb"
            },
            "outputs": [
                {
                    "output_type": "display_data",
                    "data": {
                        "text/html": "Commands completed successfully."
                    },
                    "metadata": {}
                },
                {
                    "output_type": "display_data",
                    "data": {
                        "text/html": "Total execution time: 00:00:00.335"
                    },
                    "metadata": {}
                }
            ],
            "execution_count": 21
        },
        {
            "cell_type": "markdown",
            "source": [
                "**CARREGANDO E MESCLANDO A TABELA CARGA FATO**"
            ],
            "metadata": {
                "azdata_cell_guid": "11d5678c-e526-41fb-a2af-43bc4d9da75b"
            },
            "attachments": {}
        },
        {
            "cell_type": "code",
            "source": [
                "BEGIN TRANSACTION;  \r\n",
                "   DECLARE @VDATA_INI DATETIME;\r\n",
                "    DECLARE @VPROCESSO VARCHAR(30);\r\n",
                "    SET @VDATA_INI= GETDATE();\r\n",
                "    SET @VPROCESSO= 'CARGA FATO'\r\n",
                "BEGIN TRY  \r\n",
                "\r\n",
                "\r\n",
                "MERGE FATO_VENDA AS Destino\r\n",
                "\r\n",
                "USING (\r\n",
                "SELECT b.ID_Segmento,\r\n",
                "       c.ID_Pais,\r\n",
                "       d.ID_Produto,\r\n",
                "       e.Id_Tipo_Des,\r\n",
                "       CAST(REPLACE(a.Qtde_Vendas,',','.') AS decimal(10,2)) AS Qtd_Vendas,\r\n",
                "       CAST(REPLACE(a.Preco_Custo,',','.') AS decimal(10,2))AS Preco_Custo,\r\n",
                "       CAST(REPLACE(a.Preco_Venda,',','.') AS decimal(10,2)) AS Preco_Venda,\r\n",
                "       CAST(REPLACE(a.Vendas_Bruta,',','.') AS decimal(10,2))AS Vendas_Bruta,\r\n",
                "       CAST(REPLACE(a.Vendas,',','.') AS decimal(10,2)) AS Vendas,\r\n",
                "       CAST(REPLACE(a.Custo_venda,',','.') AS decimal(10,2))AS Custo_venda,\r\n",
                "       CAST(REPLACE(a.Desconto,',','.') AS decimal(10,2)) AS Desconto,\r\n",
                "       CAST(REPLACE(a.Lucro,',','.') AS decimal(10,2))AS Lucro,\r\n",
                "       CAST(a.Data_venda AS DATE) AS Data_venda\r\n",
                "  FROM STG_VENDAS a\r\n",
                "   LEFT JOIN D_SEGMENTO b\r\n",
                "\tON a.SEGMENTO=B.NOME_Segmento\r\n",
                "\r\n",
                "   LEFT JOIN D_PAIS c\r\n",
                "\tON a.PAIS=c.NOME_pais\r\n",
                "\r\n",
                "  LEFT JOIN D_Produto d\r\n",
                "\tON a.PRODUTO=D.NOME_Produto\r\n",
                "\r\n",
                "  LEFT JOIN D_TIPO_DES e\r\n",
                "\tON a.Tipo_Desconto=E.NOME_Tipo_des\r\n",
                ") AS origem \r\n",
                "   ON Destino.Data_venda = Origem.Data_venda\r\n",
                "\r\n",
                "-- Há registro no destino e na origem\r\n",
                "WHEN MATCHED \r\n",
                "\r\n",
                "THEN \r\n",
                "    UPDATE SET  ID_Segmento=origem.ID_Segmento, \r\n",
                "                ID_Pais=origem.ID_Pais,\r\n",
                "                ID_Produto=origem.ID_Produto,\r\n",
                "                Id_Tipo_Des=origem.Id_Tipo_Des,\r\n",
                "                Qtd_Vendas=origem.Qtd_Vendas,\r\n",
                "                Preco_Custo=origem.Preco_Custo,\r\n",
                "                Preco_Venda=origem.Preco_Venda,\r\n",
                "                Vendas_Bruta=origem.Vendas_Bruta,\r\n",
                "                Vendas=origem.Vendas,\r\n",
                "                Custo_venda=origem.Custo_venda,\r\n",
                "                Desconto=origem.Desconto,\r\n",
                "                Lucro=origem.Lucro\r\n",
                "                \r\n",
                "--Quando não há registro no destino e há na origem\r\n",
                "\r\n",
                "WHEN NOT MATCHED \r\n",
                "\r\n",
                "THEN \r\n",
                "   INSERT  \r\n",
                "           (ID_Segmento,\r\n",
                "           ID_Pais,\r\n",
                "           ID_Produto,\r\n",
                "           Id_Tipo_Des,\r\n",
                "           Qtd_Vendas,\r\n",
                "           Preco_Custo,\r\n",
                "           Preco_Venda,\r\n",
                "           Vendas_Bruta,\r\n",
                "           Vendas,\r\n",
                "           Custo_venda,\r\n",
                "           Desconto,\r\n",
                "           Lucro)\r\n",
                "     VALUES\r\n",
                "           (origem.ID_Segmento,\r\n",
                "           origem.ID_Pais,\r\n",
                "           origem.ID_Produto,\r\n",
                "           origem.Id_Tipo_Des,\r\n",
                "           origem.Qtd_Vendas,\r\n",
                "           origem.Preco_Custo,\r\n",
                "           origem.Preco_Venda,\r\n",
                "           origem.Vendas_Bruta,\r\n",
                "           origem.Vendas,\r\n",
                "           origem.Custo_venda,\r\n",
                "           origem.Desconto,\r\n",
                "           origem.Lucro);\r\n",
                "\r\n",
                "END TRY  \r\n",
                "BEGIN CATCH\r\n",
                "   IF @@TRANCOUNT > 0  \r\n",
                "        ROLLBACK TRANSACTION; \r\n",
                "\r\n",
                "INSERT INTO [dbo].[LOG_CARGAS]\r\n",
                "           ([NUMERO_ERRO],\r\n",
                "           [SERVERIDADE_ERRO],\r\n",
                "           [ESTADO_ERRO],\r\n",
                "           [PROC_ERRO],\r\n",
                "           [LINHA_ERRO],\r\n",
                "           [MSG_ERRO],\r\n",
                "           [SITUACAO],\r\n",
                "           [PROCESSO],\r\n",
                "           [DATA_INI],\r\n",
                "         [DATA_FIM])\r\n",
                "     VALUES\r\n",
                "        (ERROR_NUMBER(),\r\n",
                "        ERROR_SEVERITY(),\r\n",
                "        ERROR_STATE(),\r\n",
                "        ERROR_PROCEDURE(),\r\n",
                "        ERROR_LINE() ,\r\n",
                "        ERROR_MESSAGE() ,\r\n",
                "        'ERRO',\r\n",
                "        @VPROCESSO,\r\n",
                "      @VDATA_INI,\r\n",
                "      GETDATE()\r\n",
                "      )\r\n",
                "\r\n",
                "        \r\n",
                "END CATCH;  \r\n",
                "\r\n",
                "INSERT INTO LOG_CARGAS\r\n",
                "           ([NUMERO_ERRO],\r\n",
                "           [SERVERIDADE_ERRO],\r\n",
                "           [ESTADO_ERRO],\r\n",
                "           [PROC_ERRO],\r\n",
                "           [LINHA_ERRO],\r\n",
                "           [MSG_ERRO],\r\n",
                "           [SITUACAO],\r\n",
                "           [PROCESSO],\r\n",
                "           [DATA_INI],\r\n",
                "           [DATA_FIM])\r\n",
                "     VALUES\r\n",
                "        (ERROR_NUMBER(),\r\n",
                "        ERROR_SEVERITY(),\r\n",
                "        ERROR_STATE(),\r\n",
                "        ERROR_PROCEDURE(),\r\n",
                "        ERROR_LINE() ,\r\n",
                "        ERROR_MESSAGE() ,\r\n",
                "        'SUCESSO',\r\n",
                "        @VPROCESSO,\r\n",
                "      @VDATA_INI,\r\n",
                "      GETDATE()\r\n",
                "      )\r\n",
                "\r\n",
                "IF @@TRANCOUNT > 0  \r\n",
                "    COMMIT TRANSACTION;  \r\n",
                "GO  "
            ],
            "metadata": {
                "azdata_cell_guid": "ed32cbf7-db2c-4623-86f1-03b272a2646a"
            },
            "outputs": [
                {
                    "output_type": "display_data",
                    "data": {
                        "text/html": "(0 rows affected)"
                    },
                    "metadata": {}
                },
                {
                    "output_type": "display_data",
                    "data": {
                        "text/html": "(1 row affected)"
                    },
                    "metadata": {}
                },
                {
                    "output_type": "display_data",
                    "data": {
                        "text/html": "Total execution time: 00:00:00.192"
                    },
                    "metadata": {}
                }
            ],
            "execution_count": 32
        }
    ]
}